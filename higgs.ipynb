{
 "metadata": {
  "language_info": {
   "codemirror_mode": {
    "name": "ipython",
    "version": 3
   },
   "file_extension": ".py",
   "mimetype": "text/x-python",
   "name": "python",
   "nbconvert_exporter": "python",
   "pygments_lexer": "ipython3",
   "version": "3.7.4-final"
  },
  "orig_nbformat": 2,
  "kernelspec": {
   "name": "python37464bitf9b15c5f650e4329a9464e6586313a66",
   "display_name": "Python 3.7.4 64-bit"
  }
 },
 "nbformat": 4,
 "nbformat_minor": 2,
 "cells": [
  {
   "cell_type": "code",
   "execution_count": 1,
   "metadata": {},
   "outputs": [],
   "source": [
    "# Load libraries\n",
    "import pandas as pd\n",
    "from sklearn.linear_model import LinearRegression\n",
    "from sklearn.tree import DecisionTreeClassifier \n",
    "from sklearn.ensemble import RandomForestClassifier, GradientBoostingClassifier\n",
    "from sklearn.model_selection import train_test_split \n",
    "from sklearn import metrics \n",
    "import time"
   ]
  },
  {
   "cell_type": "code",
   "execution_count": 2,
   "metadata": {},
   "outputs": [],
   "source": [
    "def get_results(tar_test, pred, train_time, pred_time):\n",
    "    '''\n",
    "    Function used to return the analysis results, and the required time as a list\n",
    "    for better storing and referencing in the various cases.\n",
    "    The times are returned using gmtime, for better printing\n",
    "    '''\n",
    "    #calculate metrics\n",
    "    acc = metrics.accuracy_score(tar_test, pred)\n",
    "    prec = metrics.precision_score(tar_test, pred)\n",
    "    f1 = metrics.f1_score(tar_test, pred)\n",
    "\n",
    "    return [acc, prec, f1, time.gmtime(train_time), time.gmtime(pred_time)]"
   ]
  },
  {
   "cell_type": "code",
   "execution_count": 3,
   "metadata": {},
   "outputs": [],
   "source": [
    "#define a list with the column names\n",
    "col_names = [\"class_label\", \"lepton_pT\", \"lepton_eta\", \"lepton_phi\", \"missing_energy_magnitude\", \"missing_energy_phi\", \"jet_1_pt\", \"jet_1_eta\", \"jet_1_phi\", \"jet_1_b-tag\", \"jet_2_pt\", \"jet_2_eta\", \"jet_2_phi\", \"jet_2_b-tag\", \"jet_3_pt\", \"jet_3_eta\", \"jet_3_phi\", \"jet_3_b-tag\", \"jet_4_pt\", \"jet_4_eta\", \"jet_4_phi\", \"jet_4_b-tag\", \"m_jj\", \"m_jjj\", \"m_lv\", \"m_jlv\", \"m_bb\", \"m_wbb\", \"m_wwbb\"]\n",
    "\n",
    "#read the scv \n",
    "higgs = pd.read_csv('HIGGS.csv', header=None, names=col_names)"
   ]
  },
  {
   "cell_type": "code",
   "execution_count": 4,
   "metadata": {},
   "outputs": [
    {
     "output_type": "execute_result",
     "data": {
      "text/plain": "   class_label  lepton_pT  lepton_eta  lepton_phi  missing_energy_magnitude  \\\n0          1.0   0.869293   -0.635082    0.225690                  0.327470   \n1          1.0   0.907542    0.329147    0.359412                  1.497970   \n2          1.0   0.798835    1.470639   -1.635975                  0.453773   \n3          0.0   1.344385   -0.876626    0.935913                  1.992050   \n4          1.0   1.105009    0.321356    1.522401                  0.882808   \n\n   missing_energy_phi  jet_1_pt  jet_1_eta  jet_1_phi  jet_1_b-tag  ...  \\\n0           -0.689993  0.754202  -0.248573  -1.092064     0.000000  ...   \n1           -0.313010  1.095531  -0.557525  -1.588230     2.173076  ...   \n2            0.425629  1.104875   1.282322   1.381664     0.000000  ...   \n3            0.882454  1.786066  -1.646778  -0.942383     0.000000  ...   \n4           -1.205349  0.681466  -1.070464  -0.921871     0.000000  ...   \n\n   jet_4_eta  jet_4_phi  jet_4_b-tag      m_jj     m_jjj      m_lv     m_jlv  \\\n0  -0.010455  -0.045767     3.101961  1.353760  0.979563  0.978076  0.920005   \n1  -1.138930  -0.000819     0.000000  0.302220  0.833048  0.985700  0.978098   \n2   1.128848   0.900461     0.000000  0.909753  1.108330  0.985692  0.951331   \n3  -0.678379  -1.360356     0.000000  0.946652  1.028704  0.998656  0.728281   \n4  -0.373566   0.113041     0.000000  0.755856  1.361057  0.986610  0.838085   \n\n       m_bb     m_wbb    m_wwbb  \n0  0.721657  0.988751  0.876678  \n1  0.779732  0.992356  0.798343  \n2  0.803252  0.865924  0.780118  \n3  0.869200  1.026736  0.957904  \n4  1.133295  0.872245  0.808487  \n\n[5 rows x 29 columns]",
      "text/html": "<div>\n<style scoped>\n    .dataframe tbody tr th:only-of-type {\n        vertical-align: middle;\n    }\n\n    .dataframe tbody tr th {\n        vertical-align: top;\n    }\n\n    .dataframe thead th {\n        text-align: right;\n    }\n</style>\n<table border=\"1\" class=\"dataframe\">\n  <thead>\n    <tr style=\"text-align: right;\">\n      <th></th>\n      <th>class_label</th>\n      <th>lepton_pT</th>\n      <th>lepton_eta</th>\n      <th>lepton_phi</th>\n      <th>missing_energy_magnitude</th>\n      <th>missing_energy_phi</th>\n      <th>jet_1_pt</th>\n      <th>jet_1_eta</th>\n      <th>jet_1_phi</th>\n      <th>jet_1_b-tag</th>\n      <th>...</th>\n      <th>jet_4_eta</th>\n      <th>jet_4_phi</th>\n      <th>jet_4_b-tag</th>\n      <th>m_jj</th>\n      <th>m_jjj</th>\n      <th>m_lv</th>\n      <th>m_jlv</th>\n      <th>m_bb</th>\n      <th>m_wbb</th>\n      <th>m_wwbb</th>\n    </tr>\n  </thead>\n  <tbody>\n    <tr>\n      <td>0</td>\n      <td>1.0</td>\n      <td>0.869293</td>\n      <td>-0.635082</td>\n      <td>0.225690</td>\n      <td>0.327470</td>\n      <td>-0.689993</td>\n      <td>0.754202</td>\n      <td>-0.248573</td>\n      <td>-1.092064</td>\n      <td>0.000000</td>\n      <td>...</td>\n      <td>-0.010455</td>\n      <td>-0.045767</td>\n      <td>3.101961</td>\n      <td>1.353760</td>\n      <td>0.979563</td>\n      <td>0.978076</td>\n      <td>0.920005</td>\n      <td>0.721657</td>\n      <td>0.988751</td>\n      <td>0.876678</td>\n    </tr>\n    <tr>\n      <td>1</td>\n      <td>1.0</td>\n      <td>0.907542</td>\n      <td>0.329147</td>\n      <td>0.359412</td>\n      <td>1.497970</td>\n      <td>-0.313010</td>\n      <td>1.095531</td>\n      <td>-0.557525</td>\n      <td>-1.588230</td>\n      <td>2.173076</td>\n      <td>...</td>\n      <td>-1.138930</td>\n      <td>-0.000819</td>\n      <td>0.000000</td>\n      <td>0.302220</td>\n      <td>0.833048</td>\n      <td>0.985700</td>\n      <td>0.978098</td>\n      <td>0.779732</td>\n      <td>0.992356</td>\n      <td>0.798343</td>\n    </tr>\n    <tr>\n      <td>2</td>\n      <td>1.0</td>\n      <td>0.798835</td>\n      <td>1.470639</td>\n      <td>-1.635975</td>\n      <td>0.453773</td>\n      <td>0.425629</td>\n      <td>1.104875</td>\n      <td>1.282322</td>\n      <td>1.381664</td>\n      <td>0.000000</td>\n      <td>...</td>\n      <td>1.128848</td>\n      <td>0.900461</td>\n      <td>0.000000</td>\n      <td>0.909753</td>\n      <td>1.108330</td>\n      <td>0.985692</td>\n      <td>0.951331</td>\n      <td>0.803252</td>\n      <td>0.865924</td>\n      <td>0.780118</td>\n    </tr>\n    <tr>\n      <td>3</td>\n      <td>0.0</td>\n      <td>1.344385</td>\n      <td>-0.876626</td>\n      <td>0.935913</td>\n      <td>1.992050</td>\n      <td>0.882454</td>\n      <td>1.786066</td>\n      <td>-1.646778</td>\n      <td>-0.942383</td>\n      <td>0.000000</td>\n      <td>...</td>\n      <td>-0.678379</td>\n      <td>-1.360356</td>\n      <td>0.000000</td>\n      <td>0.946652</td>\n      <td>1.028704</td>\n      <td>0.998656</td>\n      <td>0.728281</td>\n      <td>0.869200</td>\n      <td>1.026736</td>\n      <td>0.957904</td>\n    </tr>\n    <tr>\n      <td>4</td>\n      <td>1.0</td>\n      <td>1.105009</td>\n      <td>0.321356</td>\n      <td>1.522401</td>\n      <td>0.882808</td>\n      <td>-1.205349</td>\n      <td>0.681466</td>\n      <td>-1.070464</td>\n      <td>-0.921871</td>\n      <td>0.000000</td>\n      <td>...</td>\n      <td>-0.373566</td>\n      <td>0.113041</td>\n      <td>0.000000</td>\n      <td>0.755856</td>\n      <td>1.361057</td>\n      <td>0.986610</td>\n      <td>0.838085</td>\n      <td>1.133295</td>\n      <td>0.872245</td>\n      <td>0.808487</td>\n    </tr>\n  </tbody>\n</table>\n<p>5 rows × 29 columns</p>\n</div>"
     },
     "metadata": {},
     "execution_count": 4
    }
   ],
   "source": [
    "#show the first 5 lines of the dataframe\n",
    "higgs.head(5)"
   ]
  },
  {
   "cell_type": "code",
   "execution_count": 5,
   "metadata": {
    "tags": []
   },
   "outputs": [
    {
     "output_type": "stream",
     "name": "stdout",
     "text": "number of rows:  11000000\n"
    }
   ],
   "source": [
    "print(\"number of rows: \", len(higgs.index))"
   ]
  },
  {
   "cell_type": "code",
   "execution_count": 6,
   "metadata": {
    "tags": []
   },
   "outputs": [],
   "source": [
    "#define the feature and the target \n",
    "feat_cols = col_names[1:]\n",
    "tar_col = col_names[0]\n",
    "\n",
    "#get the featutre and the target dataframes\n",
    "feats = higgs[feat_cols]\n",
    "tar = higgs[tar_col]"
   ]
  },
  {
   "cell_type": "code",
   "execution_count": 7,
   "metadata": {},
   "outputs": [],
   "source": [
    "#define the test and train dataset\n",
    "#we assume 25% is the test size, the rest is for training\n",
    "feat_train, feat_test, tar_train, tar_test = train_test_split(feats, tar, test_size=0.25, random_state=10)"
   ]
  },
  {
   "cell_type": "code",
   "execution_count": 8,
   "metadata": {},
   "outputs": [],
   "source": [
    "depths = [5, 10, 15, 20]\n",
    "\n",
    "decision_tree_results = []\n",
    "for depth in depths:\n",
    "    #initialize the Decision Tree Classifier\n",
    "    tree_clf = DecisionTreeClassifier(max_depth=depth)\n",
    "\n",
    "    #to calculate time spent to train the model\n",
    "    start_time = time.time()\n",
    "    #train the classifier\n",
    "    tree_clf = tree_clf.fit(feat_train, tar_train)\n",
    "\n",
    "    inter_time = time.time()\n",
    "    train_time = inter_time-start_time\n",
    "    #compute the predictions\n",
    "    pred = tree_clf.predict(feat_test)\n",
    "\n",
    "    pred_time = time.time()-inter_time\n",
    "\n",
    "    #save them to a list for better referencing\n",
    "    tree_results = get_results(tar_test, pred, train_time, pred_time)\n",
    "    tree_results.append(depth)\n",
    "    decision_tree_results.append(tree_results)"
   ]
  },
  {
   "cell_type": "code",
   "execution_count": 9,
   "metadata": {
    "tags": []
   },
   "outputs": [
    {
     "output_type": "stream",
     "name": "stdout",
     "text": "==============================================================\nmaximun depth :  5\nDecision Tree Accuracy : 0.664\nDecision Tree Precision : 0.676\nDecision Tree F1 Score : 0.690\nTime spent training the Decision Tree classifier :  00:03:39\nTime spent calcuating the Decision Tree predictions :  00:00:01\n==============================================================\nmaximun depth :  10\nDecision Tree Accuracy : 0.705\nDecision Tree Precision : 0.721\nDecision Tree F1 Score : 0.721\nTime spent training the Decision Tree classifier :  00:06:05\nTime spent calcuating the Decision Tree predictions :  00:00:00\n==============================================================\nmaximun depth :  15\nDecision Tree Accuracy : 0.719\nDecision Tree Precision : 0.734\nDecision Tree F1 Score : 0.735\nTime spent training the Decision Tree classifier :  00:08:33\nTime spent calcuating the Decision Tree predictions :  00:00:00\n==============================================================\nmaximun depth :  20\nDecision Tree Accuracy : 0.711\nDecision Tree Precision : 0.726\nDecision Tree F1 Score : 0.728\nTime spent training the Decision Tree classifier :  00:10:31\nTime spent calcuating the Decision Tree predictions :  00:00:01\n"
    }
   ],
   "source": [
    "for i in range(len(decision_tree_results)):\n",
    "    tree_result = decision_tree_results[i]\n",
    "    depth = depths[i]\n",
    "\n",
    "    print('==============================================================')\n",
    "    print('maximun depth : ', tree_result[5])\n",
    "    #print metrics\n",
    "    print(\"Decision Tree Accuracy : {:5.3f}\".format(tree_result[0]))\n",
    "    print(\"Decision Tree Precision : {:5.3f}\".format(tree_result[1]))\n",
    "    print(\"Decision Tree F1 Score : {:5.3f}\".format(tree_result[2]))\n",
    "\n",
    "    #print the time needed\n",
    "    print(\"Time spent training the Decision Tree classifier : \", time.strftime(\"%H:%M:%S\", tree_result[3]))\n",
    "    print(\"Time spent calcuating the Decision Tree predictions : \", time.strftime(\"%H:%M:%S\", tree_result[4])) "
   ]
  },
  {
   "cell_type": "code",
   "execution_count": 10,
   "metadata": {},
   "outputs": [],
   "source": [
    "number_of_estimators = [5, 10, 15, 20]\n",
    "\n",
    "random_forest_results = []\n",
    "for estimators in number_of_estimators:\n",
    "    #initialize the Random Forest Classifier with the specified number of estimators\n",
    "    rf_clf = RandomForestClassifier(n_estimators=estimators)\n",
    "\n",
    "    #to calculate time spent to train the model\n",
    "    start_time = time.time()\n",
    "    #train the classifier\n",
    "    rf_clf = rf_clf.fit(feat_train, tar_train)\n",
    "\n",
    "    inter_time = time.time()\n",
    "    train_time = inter_time-start_time\n",
    "    #compute the predictions\n",
    "    pred = rf_clf.predict(feat_test)\n",
    "\n",
    "    ppred_time = time.time()-inter_time\n",
    "\n",
    "    #save them to a list for better referencing\n",
    "    rf_results = get_results(tar_test, pred, train_time, pred_time)\n",
    "    rf_results.append(estimators)\n",
    "    random_forest_results.append(rf_results)"
   ]
  },
  {
   "cell_type": "code",
   "execution_count": 11,
   "metadata": {
    "tags": []
   },
   "outputs": [
    {
     "output_type": "stream",
     "name": "stdout",
     "text": "==============================================================\nnumber of estimators :  5\nRandom Forest Accuracy : 0.705\nRandom Forest Precision : 0.720\nRandom Forest F1 Score : 0.722\nTime spent training the Random Forest classifier :  00:09:02\nTime spent calcuating the Random Forest predictions :  00:00:01\n==============================================================\nnumber of estimators :  10\nRandom Forest Accuracy : 0.721\nRandom Forest Precision : 0.762\nRandom Forest F1 Score : 0.723\nTime spent training the Random Forest classifier :  00:18:40\nTime spent calcuating the Random Forest predictions :  00:00:01\n==============================================================\nnumber of estimators :  15\nRandom Forest Accuracy : 0.734\nRandom Forest Precision : 0.746\nRandom Forest F1 Score : 0.751\nTime spent training the Random Forest classifier :  00:27:50\nTime spent calcuating the Random Forest predictions :  00:00:01\n==============================================================\nnumber of estimators :  20\nRandom Forest Accuracy : 0.738\nRandom Forest Precision : 0.765\nRandom Forest F1 Score : 0.747\nTime spent training the Random Forest classifier :  00:37:14\nTime spent calcuating the Random Forest predictions :  00:00:01\n"
    }
   ],
   "source": [
    "for rf_result in random_forest_results:\n",
    "    print('==============================================================')\n",
    "    print('number of estimators : ', rf_result[5])\n",
    "    #print metrics\n",
    "    print(\"Random Forest Accuracy : {:5.3f}\".format(rf_result[0]))\n",
    "    print(\"Random Forest Precision : {:5.3f}\".format(rf_result[1]))\n",
    "    print(\"Random Forest F1 Score : {:5.3f}\".format(rf_result[2]))\n",
    "\n",
    "    #print the time needed\n",
    "    print(\"Time spent training the Random Forest classifier : \", time.strftime(\"%H:%M:%S\", rf_result[3]))\n",
    "    print(\"Time spent calcuating the Random Forest predictions : \", time.strftime(\"%H:%M:%S\", rf_result[4])) "
   ]
  },
  {
   "cell_type": "code",
   "execution_count": 12,
   "metadata": {},
   "outputs": [],
   "source": [
    "gb_number_of_estimators = [5,10,15,20]\n",
    "\n",
    "gb_depth5_results = []\n",
    "for estimators in gb_number_of_estimators:\n",
    "    #initialize the Gradient Boosted Classifier with the specified number of estimators and with max depth of each equal to 5\n",
    "    gb_clf = GradientBoostingClassifier(n_estimators=estimators, max_depth=5)\n",
    "\n",
    "    #to calculate time spent to train the model\n",
    "    start_time = time.time()\n",
    "    #train the classifier\n",
    "    gb_clf = gb_clf.fit(feat_train, tar_train)\n",
    "\n",
    "    inter_time = time.time()\n",
    "    train_time = inter_time-start_time\n",
    "    #compute the predictions\n",
    "    pred = gb_clf.predict(feat_test)\n",
    "\n",
    "    pred_time = time.time()-inter_time\n",
    "    #save them to a list for better referencing\n",
    "    gb_results = get_results(tar_test, pred, train_time, pred_time)\n",
    "    gb_results.append(estimators)\n",
    "    gb_depth5_results.append(gb_results)"
   ]
  },
  {
   "cell_type": "code",
   "execution_count": 13,
   "metadata": {
    "tags": []
   },
   "outputs": [
    {
     "output_type": "stream",
     "name": "stdout",
     "text": "==============================================================\nnumber of estimators :  5\nmax depth fixed to 5\nGradient Boosted Accuracy : 0.674\nGradient Boosted Precision : 0.667\nGradient Boosted F1 Score : 0.714\nTime spent training the Gradient Boosted classifier :  00:11:33\nTime spent calcuating the Gradient Boosted predictions :  00:00:03\n==============================================================\nnumber of estimators :  10\nmax depth fixed to 5\nGradient Boosted Accuracy : 0.687\nGradient Boosted Precision : 0.690\nGradient Boosted F1 Score : 0.716\nTime spent training the Gradient Boosted classifier :  00:21:44\nTime spent calcuating the Gradient Boosted predictions :  00:00:01\n==============================================================\nnumber of estimators :  15\nmax depth fixed to 5\nGradient Boosted Accuracy : 0.698\nGradient Boosted Precision : 0.707\nGradient Boosted F1 Score : 0.721\nTime spent training the Gradient Boosted classifier :  00:31:52\nTime spent calcuating the Gradient Boosted predictions :  00:00:02\n==============================================================\nnumber of estimators :  20\nmax depth fixed to 5\nGradient Boosted Accuracy : 0.705\nGradient Boosted Precision : 0.715\nGradient Boosted F1 Score : 0.726\nTime spent training the Gradient Boosted classifier :  00:43:54\nTime spent calcuating the Gradient Boosted predictions :  00:00:02\n"
    }
   ],
   "source": [
    "for gb_result in gb_depth5_results:\n",
    "    print('==============================================================')\n",
    "    print('number of estimators : ', gb_result[5])\n",
    "    print('max depth fixed to 5')\n",
    "    #print metrics\n",
    "    print(\"Gradient Boosted Accuracy : {:5.3f}\".format(gb_result[0]))\n",
    "    print(\"Gradient Boosted Precision : {:5.3f}\".format(gb_result[1]))\n",
    "    print(\"Gradient Boosted F1 Score : {:5.3f}\".format(gb_result[2]))\n",
    "\n",
    "    #print the time needed\n",
    "    print(\"Time spent training the Gradient Boosted classifier : \", time.strftime(\"%H:%M:%S\", gb_result[3]))\n",
    "    print(\"Time spent calcuating the Gradient Boosted predictions : \", time.strftime(\"%H:%M:%S\", gb_result[4])) "
   ]
  },
  {
   "cell_type": "code",
   "execution_count": 14,
   "metadata": {},
   "outputs": [],
   "source": [
    "gb_max_depth = [2,4,6,8]\n",
    "\n",
    "gb_estim10_results = []\n",
    "for depth in gb_max_depth:\n",
    "    #initialize the Gradient Boosted Classifier with various max depth and number of estimators fixed to 8\n",
    "    gb_clf = GradientBoostingClassifier(n_estimators=8, max_depth=depth)\n",
    "\n",
    "    #to calculate time spent to train the model\n",
    "    start_time = time.time()\n",
    "    #train the classifier\n",
    "    gb_clf = gb_clf.fit(feat_train, tar_train)\n",
    "\n",
    "    inter_time = time.time()\n",
    "    train_time = inter_time-start_time\n",
    "    #compute the predictions\n",
    "    pred = gb_clf.predict(feat_test)\n",
    "\n",
    "    pred_time = time.time()-inter_time\n",
    "    #save them to a list for better referencing\n",
    "    gb_results = get_results(tar_test, pred, train_time, pred_time)\n",
    "    gb_results.append(depth)\n",
    "    gb_estim10_results.append(gb_results)"
   ]
  },
  {
   "cell_type": "code",
   "execution_count": 15,
   "metadata": {
    "tags": []
   },
   "outputs": [
    {
     "output_type": "stream",
     "name": "stdout",
     "text": "==============================================================\nnumber of estimators fixed to 10\nmax depth :  2\nGradient Boosted Accuracy : 0.639\nGradient Boosted Precision : 0.640\nGradient Boosted F1 Score : 0.682\nTime spent training the Gradient Boosted classifier :  00:04:21\nTime spent calcuating the Gradient Boosted predictions :  00:00:00\n==============================================================\nnumber of estimators fixed to 10\nmax depth :  4\nGradient Boosted Accuracy : 0.673\nGradient Boosted Precision : 0.676\nGradient Boosted F1 Score : 0.704\nTime spent training the Gradient Boosted classifier :  00:11:06\nTime spent calcuating the Gradient Boosted predictions :  00:00:01\n==============================================================\nnumber of estimators fixed to 10\nmax depth :  6\nGradient Boosted Accuracy : 0.697\nGradient Boosted Precision : 0.701\nGradient Boosted F1 Score : 0.723\nTime spent training the Gradient Boosted classifier :  00:29:06\nTime spent calcuating the Gradient Boosted predictions :  00:00:01\n==============================================================\nnumber of estimators fixed to 10\nmax depth :  8\nGradient Boosted Accuracy : 0.710\nGradient Boosted Precision : 0.713\nGradient Boosted F1 Score : 0.736\nTime spent training the Gradient Boosted classifier :  01:27:03\nTime spent calcuating the Gradient Boosted predictions :  00:00:02\n"
    }
   ],
   "source": [
    "for gb_result in gb_estim10_results:\n",
    "    print('==============================================================')\n",
    "    print('number of estimators fixed to 10')\n",
    "    print('max depth : ', gb_result[5])\n",
    "    #print metrics\n",
    "    print(\"Gradient Boosted Accuracy : {:5.3f}\".format(gb_result[0]))\n",
    "    print(\"Gradient Boosted Precision : {:5.3f}\".format(gb_result[1]))\n",
    "    print(\"Gradient Boosted F1 Score : {:5.3f}\".format(gb_result[2]))\n",
    "\n",
    "    #print the time needed\n",
    "    print(\"Time spent training the Gradient Boosted classifier : \", time.strftime(\"%H:%M:%S\", gb_result[3]))\n",
    "    print(\"Time spent calcuating the Gradient Boosted predictions : \", time.strftime(\"%H:%M:%S\", gb_result[4])) "
   ]
  }
 ]
}